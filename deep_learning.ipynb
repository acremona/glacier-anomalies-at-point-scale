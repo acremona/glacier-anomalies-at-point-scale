{
 "cells": [
  {
   "cell_type": "markdown",
   "metadata": {},
   "source": [
    "# Generating train data "
   ]
  },
  {
   "cell_type": "code",
   "execution_count": 1,
   "metadata": {},
   "outputs": [],
   "source": [
    "import numpy as np\n",
    "from random import randint\n",
    "from sklearn.utils import shuffle\n",
    "from sklearn.preprocessing import MinMaxScaler"
   ]
  },
  {
   "cell_type": "code",
   "execution_count": 2,
   "metadata": {},
   "outputs": [],
   "source": [
    "train_labels = []\n",
    "train_samples = []"
   ]
  },
  {
   "cell_type": "code",
   "execution_count": 3,
   "metadata": {},
   "outputs": [],
   "source": [
    "for i in range(50):\n",
    "    random_younger = randint(13,64)\n",
    "    train_samples.append(random_younger)\n",
    "    train_labels.append(1)\n",
    "    \n",
    "    random_older = randint(65,100)\n",
    "    train_samples.append(random_older)\n",
    "    train_labels.append(0)\n",
    "    \n",
    "for i in range(1000):\n",
    "    random_younger = randint(13,64)\n",
    "    train_samples.append(random_younger)\n",
    "    train_labels.append(0)\n",
    "    \n",
    "    random_older = randint(65,100)\n",
    "    train_samples.append(random_older)\n",
    "    train_labels.append(1)    "
   ]
  },
  {
   "cell_type": "code",
   "execution_count": 4,
   "metadata": {},
   "outputs": [],
   "source": [
    "train_labels = np.array(train_labels)\n",
    "train_samples = np.array(train_samples)\n",
    "train_labels, train_samples = shuffle(train_labels, train_samples)"
   ]
  },
  {
   "cell_type": "code",
   "execution_count": 5,
   "metadata": {},
   "outputs": [],
   "source": [
    "scaler = MinMaxScaler(feature_range=(0,1))\n",
    "scaled_train_samples = scaler.fit_transform(train_samples.reshape(-1,1))"
   ]
  },
  {
   "cell_type": "markdown",
   "metadata": {},
   "source": [
    "# Simple tf.keras Sequential Model"
   ]
  },
  {
   "cell_type": "code",
   "execution_count": 6,
   "metadata": {},
   "outputs": [],
   "source": [
    "import tensorflow as tf\n",
    "from tensorflow import keras\n",
    "from tensorflow.keras.models import Sequential\n",
    "from tensorflow.keras.layers import Activation, Dense\n",
    "from tensorflow.keras.optimizers import Adam\n",
    "from tensorflow.keras.metrics import categorical_crossentropy"
   ]
  },
  {
   "cell_type": "code",
   "execution_count": 7,
   "metadata": {},
   "outputs": [],
   "source": [
    "model = Sequential([\n",
    "    Dense(units=16, input_shape=(1,), activation='relu'),\n",
    "    Dense(units=32, activation='relu'),\n",
    "    Dense(units=2, activation='softmax')\n",
    "])"
   ]
  },
  {
   "cell_type": "code",
   "execution_count": 8,
   "metadata": {},
   "outputs": [
    {
     "name": "stdout",
     "output_type": "stream",
     "text": [
      "Model: \"sequential\"\n",
      "_________________________________________________________________\n",
      " Layer (type)                Output Shape              Param #   \n",
      "=================================================================\n",
      " dense (Dense)               (None, 16)                32        \n",
      "                                                                 \n",
      " dense_1 (Dense)             (None, 32)                544       \n",
      "                                                                 \n",
      " dense_2 (Dense)             (None, 2)                 66        \n",
      "                                                                 \n",
      "=================================================================\n",
      "Total params: 642\n",
      "Trainable params: 642\n",
      "Non-trainable params: 0\n",
      "_________________________________________________________________\n"
     ]
    }
   ],
   "source": [
    "model.summary()"
   ]
  },
  {
   "cell_type": "code",
   "execution_count": 9,
   "metadata": {},
   "outputs": [],
   "source": [
    "model.compile(optimizer=Adam(learning_rate=0.0001), loss='sparse_categorical_crossentropy', metrics=['accuracy'])"
   ]
  },
  {
   "cell_type": "code",
   "execution_count": 10,
   "metadata": {},
   "outputs": [
    {
     "name": "stdout",
     "output_type": "stream",
     "text": [
      "Epoch 1/30\n",
      "189/189 - 1s - loss: 0.6517 - accuracy: 0.5513 - val_loss: 0.6372 - val_accuracy: 0.5952 - 840ms/epoch - 4ms/step\n",
      "Epoch 2/30\n",
      "189/189 - 0s - loss: 0.6252 - accuracy: 0.6556 - val_loss: 0.6059 - val_accuracy: 0.7095 - 134ms/epoch - 707us/step\n",
      "Epoch 3/30\n",
      "189/189 - 0s - loss: 0.5928 - accuracy: 0.7265 - val_loss: 0.5777 - val_accuracy: 0.7429 - 126ms/epoch - 665us/step\n",
      "Epoch 4/30\n",
      "189/189 - 0s - loss: 0.5632 - accuracy: 0.7603 - val_loss: 0.5496 - val_accuracy: 0.7714 - 144ms/epoch - 764us/step\n",
      "Epoch 5/30\n",
      "189/189 - 0s - loss: 0.5342 - accuracy: 0.7873 - val_loss: 0.5229 - val_accuracy: 0.7857 - 154ms/epoch - 813us/step\n",
      "Epoch 6/30\n",
      "189/189 - 0s - loss: 0.5060 - accuracy: 0.8132 - val_loss: 0.4972 - val_accuracy: 0.8190 - 167ms/epoch - 884us/step\n",
      "Epoch 7/30\n",
      "189/189 - 0s - loss: 0.4785 - accuracy: 0.8354 - val_loss: 0.4725 - val_accuracy: 0.8429 - 120ms/epoch - 634us/step\n",
      "Epoch 8/30\n",
      "189/189 - 0s - loss: 0.4522 - accuracy: 0.8471 - val_loss: 0.4493 - val_accuracy: 0.8619 - 130ms/epoch - 690us/step\n",
      "Epoch 9/30\n",
      "189/189 - 0s - loss: 0.4273 - accuracy: 0.8608 - val_loss: 0.4275 - val_accuracy: 0.8667 - 139ms/epoch - 735us/step\n",
      "Epoch 10/30\n",
      "189/189 - 0s - loss: 0.4042 - accuracy: 0.8815 - val_loss: 0.4078 - val_accuracy: 0.8762 - 143ms/epoch - 754us/step\n",
      "Epoch 11/30\n",
      "189/189 - 0s - loss: 0.3827 - accuracy: 0.8921 - val_loss: 0.3886 - val_accuracy: 0.8762 - 138ms/epoch - 730us/step\n",
      "Epoch 12/30\n",
      "189/189 - 0s - loss: 0.3626 - accuracy: 0.9042 - val_loss: 0.3727 - val_accuracy: 0.8762 - 137ms/epoch - 726us/step\n",
      "Epoch 13/30\n",
      "189/189 - 0s - loss: 0.3459 - accuracy: 0.9079 - val_loss: 0.3592 - val_accuracy: 0.8905 - 132ms/epoch - 700us/step\n",
      "Epoch 14/30\n",
      "189/189 - 0s - loss: 0.3315 - accuracy: 0.9180 - val_loss: 0.3476 - val_accuracy: 0.9048 - 215ms/epoch - 1ms/step\n",
      "Epoch 15/30\n",
      "189/189 - 0s - loss: 0.3193 - accuracy: 0.9196 - val_loss: 0.3379 - val_accuracy: 0.9048 - 176ms/epoch - 933us/step\n",
      "Epoch 16/30\n",
      "189/189 - 0s - loss: 0.3087 - accuracy: 0.9243 - val_loss: 0.3298 - val_accuracy: 0.9095 - 150ms/epoch - 794us/step\n",
      "Epoch 17/30\n",
      "189/189 - 0s - loss: 0.3001 - accuracy: 0.9254 - val_loss: 0.3233 - val_accuracy: 0.9095 - 165ms/epoch - 874us/step\n",
      "Epoch 18/30\n",
      "189/189 - 0s - loss: 0.2927 - accuracy: 0.9280 - val_loss: 0.3178 - val_accuracy: 0.9095 - 172ms/epoch - 910us/step\n",
      "Epoch 19/30\n",
      "189/189 - 0s - loss: 0.2865 - accuracy: 0.9280 - val_loss: 0.3132 - val_accuracy: 0.9095 - 185ms/epoch - 980us/step\n",
      "Epoch 20/30\n",
      "189/189 - 0s - loss: 0.2812 - accuracy: 0.9344 - val_loss: 0.3097 - val_accuracy: 0.9286 - 171ms/epoch - 906us/step\n",
      "Epoch 21/30\n",
      "189/189 - 0s - loss: 0.2769 - accuracy: 0.9317 - val_loss: 0.3066 - val_accuracy: 0.9286 - 174ms/epoch - 919us/step\n",
      "Epoch 22/30\n",
      "189/189 - 0s - loss: 0.2732 - accuracy: 0.9333 - val_loss: 0.3041 - val_accuracy: 0.9286 - 188ms/epoch - 997us/step\n",
      "Epoch 23/30\n",
      "189/189 - 0s - loss: 0.2699 - accuracy: 0.9344 - val_loss: 0.3018 - val_accuracy: 0.9286 - 166ms/epoch - 881us/step\n",
      "Epoch 24/30\n",
      "189/189 - 0s - loss: 0.2669 - accuracy: 0.9386 - val_loss: 0.3000 - val_accuracy: 0.9095 - 163ms/epoch - 862us/step\n",
      "Epoch 25/30\n",
      "189/189 - 0s - loss: 0.2646 - accuracy: 0.9354 - val_loss: 0.2983 - val_accuracy: 0.9286 - 154ms/epoch - 817us/step\n",
      "Epoch 26/30\n",
      "189/189 - 0s - loss: 0.2627 - accuracy: 0.9360 - val_loss: 0.2969 - val_accuracy: 0.9286 - 132ms/epoch - 699us/step\n",
      "Epoch 27/30\n",
      "189/189 - 0s - loss: 0.2605 - accuracy: 0.9360 - val_loss: 0.2956 - val_accuracy: 0.9286 - 121ms/epoch - 640us/step\n",
      "Epoch 28/30\n",
      "189/189 - 0s - loss: 0.2589 - accuracy: 0.9386 - val_loss: 0.2942 - val_accuracy: 0.9286 - 126ms/epoch - 664us/step\n",
      "Epoch 29/30\n",
      "189/189 - 0s - loss: 0.2573 - accuracy: 0.9381 - val_loss: 0.2932 - val_accuracy: 0.9286 - 126ms/epoch - 669us/step\n",
      "Epoch 30/30\n",
      "189/189 - 0s - loss: 0.2562 - accuracy: 0.9386 - val_loss: 0.2920 - val_accuracy: 0.9286 - 123ms/epoch - 649us/step\n"
     ]
    },
    {
     "data": {
      "text/plain": [
       "<keras.callbacks.History at 0x1fd95796f70>"
      ]
     },
     "execution_count": 10,
     "metadata": {},
     "output_type": "execute_result"
    }
   ],
   "source": [
    "model.fit(x=scaled_train_samples, y=train_labels, validation_split=0.1, batch_size=10, epochs=30, shuffle=True, verbose=2)"
   ]
  },
  {
   "cell_type": "markdown",
   "metadata": {},
   "source": [
    "# Generating test data "
   ]
  },
  {
   "cell_type": "code",
   "execution_count": 11,
   "metadata": {},
   "outputs": [],
   "source": [
    "test_labels = []\n",
    "test_samples = []"
   ]
  },
  {
   "cell_type": "code",
   "execution_count": 12,
   "metadata": {},
   "outputs": [],
   "source": [
    "for i in range(50):\n",
    "    random_younger = randint(13,64)\n",
    "    test_samples.append(random_younger)\n",
    "    test_labels.append(1)\n",
    "    \n",
    "    random_older = randint(65,100)\n",
    "    test_samples.append(random_older)\n",
    "    test_labels.append(0)\n",
    "    \n",
    "for i in range(1000):\n",
    "    random_younger = randint(13,64)\n",
    "    test_samples.append(random_younger)\n",
    "    test_labels.append(0)\n",
    "    \n",
    "    random_older = randint(65,100)\n",
    "    test_samples.append(random_older)\n",
    "    test_labels.append(1)    "
   ]
  },
  {
   "cell_type": "code",
   "execution_count": 13,
   "metadata": {},
   "outputs": [],
   "source": [
    "test_labels = np.array(test_labels)\n",
    "test_samples = np.array(test_samples)\n",
    "test_labels, test_samples = shuffle(test_labels, test_samples)"
   ]
  },
  {
   "cell_type": "code",
   "execution_count": 14,
   "metadata": {},
   "outputs": [],
   "source": [
    "scaled_test_samples = scaler.fit_transform(test_samples.reshape(-1,1))"
   ]
  },
  {
   "cell_type": "markdown",
   "metadata": {},
   "source": [
    "# Predict"
   ]
  },
  {
   "cell_type": "code",
   "execution_count": 18,
   "metadata": {},
   "outputs": [],
   "source": [
    "predictions = model.predict(x=scaled_test_samples, batch_size=10, verbose=0)"
   ]
  },
  {
   "cell_type": "code",
   "execution_count": 20,
   "metadata": {},
   "outputs": [],
   "source": [
    "rounded_predictions = np.argmax(predictions, axis=-1)"
   ]
  },
  {
   "cell_type": "markdown",
   "metadata": {},
   "source": [
    "# Confusion matrix"
   ]
  },
  {
   "cell_type": "code",
   "execution_count": 31,
   "metadata": {},
   "outputs": [],
   "source": [
    "%matplotlib inline\n",
    "from sklearn.metrics import confusion_matrix, plot_confusion_matrix, ConfusionMatrixDisplay\n",
    "import itertools\n",
    "import matplotlib.pyplot as plt"
   ]
  },
  {
   "cell_type": "code",
   "execution_count": 24,
   "metadata": {},
   "outputs": [],
   "source": [
    "cm = confusion_matrix(y_true=test_labels, y_pred=rounded_predictions)"
   ]
  },
  {
   "cell_type": "code",
   "execution_count": 33,
   "metadata": {},
   "outputs": [
    {
     "data": {
      "text/plain": [
       "<sklearn.metrics._plot.confusion_matrix.ConfusionMatrixDisplay at 0x1fd9b3185b0>"
      ]
     },
     "execution_count": 33,
     "metadata": {},
     "output_type": "execute_result"
    },
    {
     "data": {
      "image/png": "[encoded data removed]",
      "text/plain": [
       "<Figure size 432x288 with 2 Axes>"
      ]
     },
     "metadata": {
      "needs_background": "light"
     },
     "output_type": "display_data"
    }
   ],
   "source": [
    "cm_plot_labels = ['no side effects', 'had side effects']\n",
    "cmd = ConfusionMatrixDisplay(cm, display_labels=cm_plot_labels)\n",
    "cmd.plot()"
   ]
  },
  {
   "cell_type": "code",
   "execution_count": null,
   "metadata": {},
   "outputs": [],
   "source": []
  }
 ],
 "metadata": {
  "kernelspec": {
   "display_name": "Python 3 (ipykernel)",
   "language": "python",
   "name": "python3"
  },
  "language_info": {
   "codemirror_mode": {
    "name": "ipython",
    "version": 3
   },
   "file_extension": ".py",
   "mimetype": "text/x-python",
   "name": "python",
   "nbconvert_exporter": "python",
   "pygments_lexer": "ipython3",
   "version": "3.9.5"
  }
 },
 "nbformat": 4,
 "nbformat_minor": 1
}